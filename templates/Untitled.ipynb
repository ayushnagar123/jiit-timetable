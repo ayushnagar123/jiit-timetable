{
<<<<<<< HEAD
 "cells": [
  {
   "cell_type": "code",
   "execution_count": null,
   "metadata": {},
   "outputs": [],
   "source": [
    "a=3"
   ]
  }
 ],
=======
 "cells": [],
>>>>>>> b7c89282744b1e0e9ef97f6d3f38ecee0b045b32
 "metadata": {},
 "nbformat": 4,
 "nbformat_minor": 2
}
